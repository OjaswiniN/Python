{
  "nbformat": 4,
  "nbformat_minor": 0,
  "metadata": {
    "colab": {
      "name": "Regression linear.ipynb",
      "provenance": [],
      "authorship_tag": "ABX9TyOrLkwKBNrG3Sw/T4KkdjIy",
      "include_colab_link": true
    },
    "kernelspec": {
      "name": "python3",
      "display_name": "Python 3"
    },
    "language_info": {
      "name": "python"
    }
  },
  "cells": [
    {
      "cell_type": "markdown",
      "metadata": {
        "id": "view-in-github",
        "colab_type": "text"
      },
      "source": [
        "<a href=\"https://colab.research.google.com/github/OjaswiniN/Python/blob/main/Regression_linear.ipynb\" target=\"_parent\"><img src=\"https://colab.research.google.com/assets/colab-badge.svg\" alt=\"Open In Colab\"/></a>"
      ]
    },
    {
      "cell_type": "code",
      "metadata": {
        "id": "Ndmdi-axBCqy"
      },
      "source": [
        "import tensorflow as tf\n",
        "TRUE_W=4.3\n",
        "TRUE_b=3.1\n",
        "NUM_EXAMPLES=10000\n",
        "learning_rate=1.0\n",
        "inputs = tf.random.normal(shape=[NUM_EXAMPLES])\n",
        "noise = tf.random.normal(shape=[NUM_EXAMPLES])\n",
        "outputs=inputs*TRUE_W+TRUE_b+noise"
      ],
      "execution_count": 2,
      "outputs": []
    },
    {
      "cell_type": "code",
      "source": [
        "import matplotlib.pyplot as plt\n",
        "plt.scatter(inputs,outputs, c='b')"
      ],
      "metadata": {
        "colab": {
          "base_uri": "https://localhost:8080/",
          "height": 282
        },
        "id": "yKSx2mCz_ZqW",
        "outputId": "013f6898-e2cf-4660-8347-b54152e87648"
      },
      "execution_count": 3,
      "outputs": [
        {
          "output_type": "execute_result",
          "data": {
            "text/plain": [
              "<matplotlib.collections.PathCollection at 0x7f8ee846d610>"
            ]
          },
          "metadata": {},
          "execution_count": 3
        },
        {
          "output_type": "display_data",
          "data": {
            "text/plain": [
              "<Figure size 432x288 with 1 Axes>"
            ],
            "image/png": "[encoded data removed]"
          },
          "metadata": {
            "needs_background": "light"
          }
        }
      ]
    },
    {
      "cell_type": "code",
      "source": [
        "class Model(object):\n",
        "  def __init__(self):\n",
        "    self.W=tf.Variable(5.0)\n",
        "    self.b=tf.Variable(0.0)\n",
        "  def __call__(self, x):\n",
        "    return self.W * x + self.b\n",
        "model=Model()\n",
        "assert model(3.0).numpy()==15.0"
      ],
      "metadata": {
        "id": "hTHS66Zu_n6p"
      },
      "execution_count": 4,
      "outputs": []
    },
    {
      "cell_type": "code",
      "source": [
        "def loss(target_y, predicted_y):\n",
        "  return tf.reduce_mean(tf.square(target_y-predicted_y))"
      ],
      "metadata": {
        "id": "kSp1O7TL_xIS"
      },
      "execution_count": 7,
      "outputs": []
    },
    {
      "cell_type": "code",
      "source": [
        "import matplotlib.pyplot as plt\n",
        "plt.scatter(inputs,outputs, c='b')\n",
        "plt.scatter(inputs, model(inputs),c='r')\n",
        "plt.show()\n",
        "print('current loss: %1.6f%', loss(model(inputs), outputs).numpy())"
      ],
      "metadata": {
        "colab": {
          "base_uri": "https://localhost:8080/",
          "height": 282
        },
        "id": "uxABFiKa_4hP",
        "outputId": "2e7d044f-58b2-4d41-d8ea-1cc5d677a3da"
      },
      "execution_count": 8,
      "outputs": [
        {
          "output_type": "display_data",
          "data": {
            "text/plain": [
              "<Figure size 432x288 with 1 Axes>"
            ],
            "image/png": "[encoded data removed]"
          },
          "metadata": {
            "needs_background": "light"
          }
        },
        {
          "output_type": "stream",
          "name": "stdout",
          "text": [
            "current loss: %1.6f% 11.088483\n"
          ]
        }
      ]
    },
    {
      "cell_type": "code",
      "source": [
        "def train(model, inputs, outputs,learning_rate ):\n",
        "  with tf.GradientTape() as t:\n",
        "    current_loss=loss(outputs,model(inputs))\n",
        "  dW, db= t.gradient(current_loss, [model.W, model.b])\n",
        "  model.W.assign_sub(learning_rate*dW)\n",
        "  model.b.assign_sub(learning_rate*db)"
      ],
      "metadata": {
        "id": "iw1tZXWSAIXZ"
      },
      "execution_count": 9,
      "outputs": []
    },
    {
      "cell_type": "code",
      "source": [
        "model = Model()\n",
        "Ws, bs = [], []\n",
        "epochs = range(10)\n",
        "for epoch in epochs:\n",
        "  Ws.append(model.W.numpy())\n",
        "  bs.append(model.b.numpy())\n",
        "  current_loss=loss(outputs, model(inputs))\n",
        "  train(model, inputs, outputs, learning_rate=0.1)\n",
        "  print('Epoch %2d: W=%1.2f b=%1.2f, loss = %2f' %(epoch, Ws[-1], bs[-1],current_loss))"
      ],
      "metadata": {
        "colab": {
          "base_uri": "https://localhost:8080/"
        },
        "id": "Vrj_ZTlIAMqd",
        "outputId": "3287c2a9-5873-4e54-ba92-2d3b7f405c89"
      },
      "execution_count": 10,
      "outputs": [
        {
          "output_type": "stream",
          "name": "stdout",
          "text": [
            "Epoch  0: W=5.00 b=0.00, loss = 11.088483\n",
            "Epoch  1: W=4.86 b=0.62, loss = 7.457167\n",
            "Epoch  2: W=4.75 b=1.11, loss = 5.132679\n",
            "Epoch  3: W=4.66 b=1.51, loss = 3.644723\n",
            "Epoch  4: W=4.58 b=1.83, loss = 2.692248\n",
            "Epoch  5: W=4.53 b=2.08, loss = 2.082548\n",
            "Epoch  6: W=4.48 b=2.29, loss = 1.692265\n",
            "Epoch  7: W=4.44 b=2.45, loss = 1.442436\n",
            "Epoch  8: W=4.41 b=2.58, loss = 1.282515\n",
            "Epoch  9: W=4.39 b=2.68, loss = 1.180146\n"
          ]
        }
      ]
    },
    {
      "cell_type": "code",
      "source": [
        "plt.plot(epochs,Ws,'r',epochs,bs,'b')\n",
        "plt.plot([TRUE_W]*len(epochs),'r--', [TRUE_b]*len(epochs),'b--')\n",
        "plt.legend(['W', 'b', 'True W', 'True b'])\n",
        "plt.show()"
      ],
      "metadata": {
        "colab": {
          "base_uri": "https://localhost:8080/",
          "height": 265
        },
        "id": "O9rDxSGaASYx",
        "outputId": "2ae18e8c-b36b-42e8-9f78-98894dffa726"
      },
      "execution_count": 11,
      "outputs": [
        {
          "output_type": "display_data",
          "data": {
            "text/plain": [
              "<Figure size 432x288 with 1 Axes>"
            ],
            "image/png": "[encoded data removed]"
          },
          "metadata": {
            "needs_background": "light"
          }
        }
      ]
    },
    {
      "cell_type": "code",
      "source": [
        "plt.scatter(inputs,outputs, c='b')\n",
        "plt.scatter(inputs, model(inputs),c='r')\n",
        "plt.show()\n",
        "print('current loss: %1.6f%', loss(model(inputs), outputs).numpy())"
      ],
      "metadata": {
        "colab": {
          "base_uri": "https://localhost:8080/",
          "height": 282
        },
        "id": "4AdqsptCAX49",
        "outputId": "af9e96b3-ad34-40af-b401-244e3c0c7ccf"
      },
      "execution_count": 12,
      "outputs": [
        {
          "output_type": "display_data",
          "data": {
            "text/plain": [
              "<Figure size 432x288 with 1 Axes>"
            ],
            "image/png": "[encoded data removed]"
          },
          "metadata": {
            "needs_background": "light"
          }
        },
        {
          "output_type": "stream",
          "name": "stdout",
          "text": [
            "current loss: %1.6f% 1.1146172\n"
          ]
        }
      ]
    }
  ]
}